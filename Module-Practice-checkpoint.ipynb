{
 "cells": [
  {
   "cell_type": "code",
   "execution_count": 3,
   "metadata": {},
   "outputs": [
    {
     "name": "stdout",
     "output_type": "stream",
     "text": [
      "Hello  qaim\n"
     ]
    }
   ],
   "source": [
    "def greeting(name):\n",
    "    print(\"Hello \",name)\n",
    "greeting(\"qaim\")    "
   ]
  },
  {
   "cell_type": "code",
   "execution_count": 13,
   "metadata": {},
   "outputs": [
    {
     "name": "stdout",
     "output_type": "stream",
     "text": [
      "1.19.2\n"
     ]
    }
   ],
   "source": [
    "import numpy as np\n",
    "print(np.__version__)"
   ]
  },
  {
   "cell_type": "code",
   "execution_count": 24,
   "metadata": {},
   "outputs": [
    {
     "name": "stdout",
     "output_type": "stream",
     "text": [
      "[1 2 3 4 5]\n",
      "<class 'numpy.ndarray'>\n",
      "It is 1 Array\n"
     ]
    }
   ],
   "source": [
    "array=np.array([1,2,3,4,5])\n",
    "print(array)\n",
    "print(type(array))\n",
    "print(\"It is\",array.ndim,\"Dimension Array\")"
   ]
  },
  {
   "cell_type": "code",
   "execution_count": 42,
   "metadata": {},
   "outputs": [
    {
     "name": "stdout",
     "output_type": "stream",
     "text": [
      "[[1 2 3]\n",
      " [4 5 6]]\n",
      "<class 'numpy.ndarray'>\n",
      "It is 2  Dimension Array\n",
      "6\n"
     ]
    }
   ],
   "source": [
    "array1=np.array([[1,2,3],[4,5,6]])\n",
    "print(array1)\n",
    "print(type(array1))\n",
    "print(\"It is\",array1.ndim,\" Dimension Array\")\n",
    "print(array1[1,2])"
   ]
  },
  {
   "cell_type": "code",
   "execution_count": 10,
   "metadata": {},
   "outputs": [
    {
     "name": "stdout",
     "output_type": "stream",
     "text": [
      "[1 2 3 4]\n"
     ]
    }
   ],
   "source": [
    "tuple\n",
    "array=np.array((1,2,3,4))\n",
    "print(array)"
   ]
  },
  {
   "cell_type": "code",
   "execution_count": 58,
   "metadata": {},
   "outputs": [
    {
     "name": "stdout",
     "output_type": "stream",
     "text": [
      "[[[ 1  2  3]\n",
      "  [ 4  5  6]]\n",
      "\n",
      " [[ 7  8  9]\n",
      "  [10 11 12]]\n",
      "\n",
      " [[13 14 15]\n",
      "  [16 17 18]]]\n",
      "<class 'numpy.ndarray'>\n",
      "It is 3  Dimension Array\n",
      "10\n",
      "11\n",
      "12\n",
      "[[[1 2 3]\n",
      "  [4 5 6]]]\n",
      "[[[1 2 3]\n",
      "  [4 5 6]]]\n",
      "[[[1 2 3]\n",
      "  [4 5 6]]]\n"
     ]
    }
   ],
   "source": [
    "d3=np.array([[[1,2,3],[4,5,6]],[[7,8,9],[10,11,12]],[[13,14,15],[16,17,18]]])\n",
    "print(d3)\n",
    "print(type(d3))\n",
    "print(\"It is\",d3.ndim,\" Dimension Array\")\n",
    "print(d3[1,1,0])\n",
    "print(d3[1,1,1])\n",
    "print(d3[1,1,2])\n",
    "print(d3[0:6:3])\n",
    "print(d3[0:2:3])\n",
    "print(d3[0:6:3])"
   ]
  },
  {
   "cell_type": "code",
   "execution_count": 38,
   "metadata": {},
   "outputs": [
    {
     "name": "stdout",
     "output_type": "stream",
     "text": [
      "[44 33 22 11]\n",
      "[33 22]\n",
      "55\n"
     ]
    }
   ],
   "source": [
    "slice_array=np.array([44,33,22,11])\n",
    "print(slice_array)\n",
    "print(slice_array[1:3])\n",
    "slice_array[3]=slice_array[1]+slice_array[2]\n",
    "print(slice_array[3])"
   ]
  },
  {
   "cell_type": "code",
   "execution_count": null,
   "metadata": {},
   "outputs": [],
   "source": []
  },
  {
   "cell_type": "code",
   "execution_count": null,
   "metadata": {},
   "outputs": [],
   "source": []
  }
 ],
 "metadata": {
  "kernelspec": {
   "display_name": "Python 3",
   "language": "python",
   "name": "python3"
  },
  "language_info": {
   "codemirror_mode": {
    "name": "ipython",
    "version": 3
   },
   "file_extension": ".py",
   "mimetype": "text/x-python",
   "name": "python",
   "nbconvert_exporter": "python",
   "pygments_lexer": "ipython3",
   "version": "3.8.5"
  }
 },
 "nbformat": 4,
 "nbformat_minor": 4
}
